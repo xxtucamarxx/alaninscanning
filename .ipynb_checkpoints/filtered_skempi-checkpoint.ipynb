{
 "cells": [
  {
   "cell_type": "markdown",
   "id": "6e25d44a-b1c1-4cdb-910d-06084ee60b81",
   "metadata": {},
   "source": [
    "### Import base dataframe"
   ]
  },
  {
   "cell_type": "code",
   "execution_count": 1,
   "id": "6df266b6-fefc-4a95-a43a-d357df19cfc3",
   "metadata": {
    "scrolled": true
   },
   "outputs": [],
   "source": [
    "import pandas as pd\n",
    "# skempi db, a partir da qual será gerada a nossa\n",
    "skempi = pd.read_csv(\"skempi_v2.csv\", delimiter=\";\")\n",
    "# df, nossa df já filtrada\n",
    "df = pd.DataFrame()"
   ]
  },
  {
   "cell_type": "markdown",
   "id": "fc0bafd5-5049-456f-90ec-5690510451d6",
   "metadata": {},
   "source": [
    "### Filtrar apenas entradas com mutação para alanina"
   ]
  },
  {
   "cell_type": "code",
   "execution_count": 2,
   "id": "ff030800-3d08-45bc-84be-ff7d99459a46",
   "metadata": {},
   "outputs": [],
   "source": [
    "skempi_ala = skempi[skempi['Mutation(s)_PDB'].str.endswith('A')].reset_index(drop=True) "
   ]
  },
  {
   "cell_type": "markdown",
   "id": "7ea02d83-6053-461d-9eab-db2340ee86e0",
   "metadata": {},
   "source": [
    "### Selecinar campos desejados"
   ]
  },
  {
   "cell_type": "markdown",
   "id": "1a25562e-fabd-4657-92bd-e549d55cc5c7",
   "metadata": {},
   "source": [
    "#### pdb_id, partner1, partner2"
   ]
  },
  {
   "cell_type": "code",
   "execution_count": 3,
   "id": "e5b83ba9-3806-4fab-bf76-cf510e81ecdc",
   "metadata": {},
   "outputs": [],
   "source": [
    "df[['pdb_id', 'partner1', 'partner2']] = list(skempi_ala['#Pdb'].str.split('_'))"
   ]
  },
  {
   "cell_type": "markdown",
   "id": "1fa1d9f7-0989-4c64-acb0-d7727e1e5584",
   "metadata": {},
   "source": [
    "#### partner_mut, resnum"
   ]
  },
  {
   "cell_type": "code",
   "execution_count": 4,
   "id": "f5649593-4af5-42a2-a630-d8b9cc36a7ca",
   "metadata": {},
   "outputs": [],
   "source": [
    "df['partner_mut']= list(skempi_ala['Mutation(s)_PDB'].str[1])"
   ]
  },
  {
   "cell_type": "code",
   "execution_count": 5,
   "id": "a1a4bdd5-9bf3-4159-b5b9-a2b35454ccca",
   "metadata": {},
   "outputs": [],
   "source": [
    "df['resnum'] = list(skempi_ala['Mutation(s)_PDB'].str[2:4]) "
   ]
  },
  {
   "cell_type": "markdown",
   "id": "1a508ba4-3945-446e-8e73-941e5dca03d4",
   "metadata": {},
   "source": [
    "#### dG_wt, dG_mut, hotspot"
   ]
  },
  {
   "cell_type": "markdown",
   "id": "5fdba2c9-4915-415d-8550-237be046f161",
   "metadata": {},
   "source": [
    "https://life.bsc.es/pid/skempi2/info/faq_and_help#5\n",
    ">The affinities (Kd) of the wild-type complexes are in the column 'affinity_wt' and the affinities of the mutant are in the column 'affinity_mut'. These can be converted to ΔG values by the relationship **ΔG = RT ln Kd**; at room temperature this is **ΔG = (8.314/4184)*(273.15 + 25.0) * ln(wt)**, where ln() is the natural logarithm. The changes in affinity upon mutation is calculated as **ΔΔG = ΔGmut-ΔGwt**.\n",
    ">"
   ]
  },
  {
   "cell_type": "code",
   "execution_count": 9,
   "id": "a169af48-138f-4aa2-bbc6-7d6da3ea41e5",
   "metadata": {},
   "outputs": [],
   "source": [
    "# Definir funções ΔG e ΔΔG\n",
    "calculate_dG = lambda x: ((8.314/4184)*(273.15 + 25.0) * np.log(x))\n",
    "calculate_ddG =lambda dG_mut, dG_wt: dG_mut - dG_wt"
   ]
  },
  {
   "cell_type": "code",
   "execution_count": null,
   "id": "3236e976-52e6-40e2-947d-53aef35bc658",
   "metadata": {},
   "outputs": [],
   "source": []
  }
 ],
 "metadata": {
  "kernelspec": {
   "display_name": "Python 3 (ipykernel)",
   "language": "python",
   "name": "python3"
  },
  "language_info": {
   "codemirror_mode": {
    "name": "ipython",
    "version": 3
   },
   "file_extension": ".py",
   "mimetype": "text/x-python",
   "name": "python",
   "nbconvert_exporter": "python",
   "pygments_lexer": "ipython3",
   "version": "3.10.12"
  }
 },
 "nbformat": 4,
 "nbformat_minor": 5
}
