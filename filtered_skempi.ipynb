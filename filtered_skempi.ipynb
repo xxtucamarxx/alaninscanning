{
 "cells": [
  {
   "cell_type": "markdown",
   "id": "6e25d44a-b1c1-4cdb-910d-06084ee60b81",
   "metadata": {},
   "source": [
    "## Importar dataframe base"
   ]
  },
  {
   "cell_type": "code",
   "execution_count": 1,
   "id": "6df266b6-fefc-4a95-a43a-d357df19cfc3",
   "metadata": {
    "scrolled": true
   },
   "outputs": [],
   "source": [
    "import pandas as pd\n",
    "import numpy as np\n",
    "\n",
    "# skempi db, a partir da qual será gerada a nossa\n",
    "skempi = pd.read_csv(\"skempi_v2.csv\", delimiter=\";\")\n",
    "# df, nossa df já filtrada\n",
    "df = pd.DataFrame()"
   ]
  },
  {
   "cell_type": "markdown",
   "id": "fc0bafd5-5049-456f-90ec-5690510451d6",
   "metadata": {},
   "source": [
    "## Limpar dados"
   ]
  },
  {
   "cell_type": "markdown",
   "id": "c35503e7-d942-4f00-8754-4f9a14ab6498",
   "metadata": {},
   "source": [
    "### Apenas entradas com mutação na alanina"
   ]
  },
  {
   "cell_type": "code",
   "execution_count": 3,
   "id": "ff030800-3d08-45bc-84be-ff7d99459a46",
   "metadata": {},
   "outputs": [],
   "source": [
    "skempi = skempi[skempi['Mutation(s)_PDB'].str.endswith('A')].reset_index(drop=True)"
   ]
  },
  {
   "cell_type": "markdown",
   "id": "ed4bfad4-2174-4b8c-a5f2-f43eca38f583",
   "metadata": {},
   "source": [
    "### Remover indicação de afinidade maior ou menor que X \n",
    "Algumas entradas tem o seguinte formato:\n",
    "Affinity_mut (M) = '<5466'"
   ]
  },
  {
   "cell_type": "code",
   "execution_count": 4,
   "id": "d5e52161-f4a4-4d3f-9350-9b4ed01b3615",
   "metadata": {},
   "outputs": [],
   "source": [
    "# TODO não sei se devo fazer isso ou remover os dados\n",
    "replace_gt_lt = lambda data: data.str.replace('[<>]', '', regex=True)\n",
    "skempi[['Affinity_mut (M)', 'Affinity_wt (M)']] = skempi[['Affinity_mut (M)', 'Affinity_wt (M)']].apply(replace_gt_lt)\n",
    "                                                                                                                \n",
    "## Solução removendo-os\n",
    "# skempi_ala['Affinity_mut (M)'] = skempi_ala.loc[~skempi_ala['Affinity_mut (M)'].str.startswith(('<', '>')), 'Affinity_mut (M)']\n",
    "# skempi_ala['Affinity_wt (M)'] = skempi_ala.loc[~skempi_ala['Affinity_wt (M)'].str.startswith(('<', '>')), 'Affinity_wt (M)']"
   ]
  },
  {
   "cell_type": "markdown",
   "id": "2c4b6c42-7798-4ad9-af1f-3335d4c4800f",
   "metadata": {},
   "source": [
    "### Converter valores de afinidade para float"
   ]
  },
  {
   "cell_type": "markdown",
   "id": "29f5a01a-0053-4bbf-9e78-2522aed38f80",
   "metadata": {},
   "source": [
    "Os valores de afinidade estão sendo interpretados como object. É preciso converter para float"
   ]
  },
  {
   "cell_type": "code",
   "execution_count": 5,
   "id": "ad171b01-5691-4c65-9f34-d69c4cc4f0a5",
   "metadata": {},
   "outputs": [],
   "source": [
    "skempi[['Affinity_mut (M)', 'Affinity_wt (M)']] = skempi[['Affinity_mut (M)', 'Affinity_wt (M)']].apply(pd.to_numeric, errors='coerce')"
   ]
  },
  {
   "cell_type": "markdown",
   "id": "ad67fcea-cb00-42b4-82ce-ec0f3b5f0c45",
   "metadata": {},
   "source": [
    "Algumas entradas não tem dados em 'Affinity_mut (M)', tornando-as inuteis para verificação de hotspots. É preciso remove-las"
   ]
  },
  {
   "cell_type": "code",
   "execution_count": 13,
   "id": "c5627385-b918-4574-a4e5-2c7029da30c4",
   "metadata": {},
   "outputs": [],
   "source": [
    "skempi = skempi.dropna(subset=['Affinity_mut (M)'])"
   ]
  },
  {
   "cell_type": "markdown",
   "id": "7ea02d83-6053-461d-9eab-db2340ee86e0",
   "metadata": {},
   "source": [
    "## Selecinar campos desejados"
   ]
  },
  {
   "cell_type": "markdown",
   "id": "1a25562e-fabd-4657-92bd-e549d55cc5c7",
   "metadata": {
    "jp-MarkdownHeadingCollapsed": true
   },
   "source": [
    "### pdb_id, partner1, partner2"
   ]
  },
  {
   "cell_type": "code",
   "execution_count": null,
   "id": "c8cec1a0-24a1-4bae-91d2-7522f0ee6e6a",
   "metadata": {},
   "outputs": [],
   "source": [
    "df[['pdb_id', 'partner1', 'partner2']] = skempi['#Pdb'].str.extract('(\\w+)_(\\w+)_(\\w+)')"
   ]
  },
  {
   "cell_type": "markdown",
   "id": "1fa1d9f7-0989-4c64-acb0-d7727e1e5584",
   "metadata": {
    "jp-MarkdownHeadingCollapsed": true
   },
   "source": [
    "### partner_mut, resnum"
   ]
  },
  {
   "cell_type": "code",
   "execution_count": null,
   "id": "f5649593-4af5-42a2-a630-d8b9cc36a7ca",
   "metadata": {},
   "outputs": [],
   "source": [
    "df['partner_mut']= skempi['Mutation(s)_PDB'].str[1]"
   ]
  },
  {
   "cell_type": "code",
   "execution_count": null,
   "id": "a1a4bdd5-9bf3-4159-b5b9-a2b35454ccca",
   "metadata": {
    "scrolled": true
   },
   "outputs": [],
   "source": [
    "df['resnum'] = skempi['Mutation(s)_PDB'].str.extract('(\\d+)')"
   ]
  },
  {
   "cell_type": "markdown",
   "id": "86a47781-a60b-476e-809c-26def2171e0a",
   "metadata": {},
   "source": [
    "certas entradas apresentam mutação em ambos participantes"
   ]
  },
  {
   "cell_type": "markdown",
   "id": "1a508ba4-3945-446e-8e73-941e5dca03d4",
   "metadata": {
    "jp-MarkdownHeadingCollapsed": true
   },
   "source": [
    "### ΔG_wt, ΔG_mut, ΔΔG,  hotspot"
   ]
  },
  {
   "cell_type": "markdown",
   "id": "5fdba2c9-4915-415d-8550-237be046f161",
   "metadata": {
    "jp-MarkdownHeadingCollapsed": true
   },
   "source": [
    "Segundo o site da [documentação](https://life.bsc.es/pid/skempi2/info/faq_and_help#5) do banco de dados\n",
    ">The affinities (Kd) of the wild-type complexes are in the column 'affinity_wt' and the affinities of the mutant are in the column 'affinity_mut'. These can be converted to ΔG values by the relationship **ΔG = RT ln Kd**; at room temperature this is **ΔG = (8.314/4184)*(273.15 + 25.0) * ln(wt)**, where ln() is the natural logarithm. The changes in affinity upon mutation is calculated as **ΔΔG = ΔGmut-ΔGwt**.\n",
    ">"
   ]
  },
  {
   "cell_type": "code",
   "execution_count": null,
   "id": "a169af48-138f-4aa2-bbc6-7d6da3ea41e5",
   "metadata": {},
   "outputs": [],
   "source": [
    "# Definir funções ΔG e ΔΔG\n",
    "# Talvez seja necessário alterar valores de temperatura\n",
    "\n",
    "calculate_dG = lambda kd: ((8.314/4184)*(273.15 + 25.0) * np.log(kd))\n",
    "calculate_ddG =  lambda dG_mut, dG_wt: dG_mut - dG_wt"
   ]
  },
  {
   "cell_type": "code",
   "execution_count": null,
   "id": "3236e976-52e6-40e2-947d-53aef35bc658",
   "metadata": {},
   "outputs": [],
   "source": [
    "df['dG_mut'] = calculate_dG(skempi_ala['Affinity_mut (M)'])\n",
    "df['dG_wt'] = calculate_dG(skempi_ala['Affinity_wt (M)'])"
   ]
  },
  {
   "cell_type": "code",
   "execution_count": null,
   "id": "b2732378-9db2-45d1-8416-535d46aaf121",
   "metadata": {},
   "outputs": [],
   "source": [
    "df['ddG'] = calculate_ddG(df['dG_mut'], df['dG_wt'])"
   ]
  },
  {
   "cell_type": "code",
   "execution_count": null,
   "id": "92a1ca43",
   "metadata": {},
   "outputs": [],
   "source": [
    "df['hotspot'] = (df['ddG'] > 2.5).astype(int)"
   ]
  },
  {
   "cell_type": "markdown",
   "id": "fdb2c6c9-2262-44d5-b345-cfafd0c0e056",
   "metadata": {},
   "source": [
    "## Salvar nova tabela em csv"
   ]
  },
  {
   "cell_type": "code",
   "execution_count": null,
   "id": "b6a39eef-957c-4f6e-a081-39707bb91a33",
   "metadata": {},
   "outputs": [],
   "source": [
    "df.to_csv('alalin_filtered_skempi.csv', sep=';', index=False)"
   ]
  }
 ],
 "metadata": {
  "kernelspec": {
   "display_name": "Python 3 (ipykernel)",
   "language": "python",
   "name": "python3"
  },
  "language_info": {
   "codemirror_mode": {
    "name": "ipython",
    "version": 3
   },
   "file_extension": ".py",
   "mimetype": "text/x-python",
   "name": "python",
   "nbconvert_exporter": "python",
   "pygments_lexer": "ipython3",
   "version": "3.10.12"
  }
 },
 "nbformat": 4,
 "nbformat_minor": 5
}
